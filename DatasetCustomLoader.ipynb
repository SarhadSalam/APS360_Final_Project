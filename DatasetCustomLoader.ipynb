{
 "cells": [
  {
   "cell_type": "code",
   "execution_count": 3,
   "metadata": {},
   "outputs": [],
   "source": [
    "import os, os.path\n",
    "import cv2\n",
    "import torch\n",
    "\n",
    "# Real dir: 'whatever/', the ending / is important\n",
    "class EdgeRealDataset(torch.utils.data.Dataset):\n",
    "    def __init__(self, real_dir, edge_dir, transform = None):\n",
    "        self.real_dir = real_dir\n",
    "        self.edge_dir = edge_dir\n",
    "        self.transform = transform\n",
    "        self.count = len([n for n in os.listdir(real_dir) if os.path.isfile(n)])\n",
    "    \n",
    "    def __len__(self):\n",
    "        return self.count\n",
    "    \n",
    "    def __get_item__(self, idx):\n",
    "        if torch.is_tensor(idx):\n",
    "            idx = idx.tolist()\n",
    "        \n",
    "        real_img = cv2.imread(self.real_dir+str(idx)+'.png')\n",
    "        real_img = cv2.cvtColor(real_img, cv2.COLOR_BGRA2RGBA) # test if the actual\n",
    "        \n",
    "        edge_img = cv2.imread(self.edge_dir+str(idx)+'.png')\n",
    "        edge_img = cv2.cvtColor(edge_img, cv2.COLOR_BGRA2RGBA) # test if the actual\n",
    "        \n",
    "        if self.transform:\n",
    "            real_img = self.transform(real_img)\n",
    "            edge_img = self.transform(edge_img)\n",
    "        \n",
    "        return (real_img, edge_img)"
   ]
  },
  {
   "cell_type": "code",
   "execution_count": null,
   "metadata": {},
   "outputs": [],
   "source": []
  }
 ],
 "metadata": {
  "kernelspec": {
   "display_name": "Python 3",
   "language": "python",
   "name": "python3"
  },
  "language_info": {
   "codemirror_mode": {
    "name": "ipython",
    "version": 3
   },
   "file_extension": ".py",
   "mimetype": "text/x-python",
   "name": "python",
   "nbconvert_exporter": "python",
   "pygments_lexer": "ipython3",
   "version": "3.6.10"
  }
 },
 "nbformat": 4,
 "nbformat_minor": 2
}
